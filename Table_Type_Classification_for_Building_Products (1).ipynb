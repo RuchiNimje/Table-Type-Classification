{
  "cells": [
    {
      "cell_type": "markdown",
      "metadata": {
        "id": "UrHf3F9GLZm6"
      },
      "source": [
        "# Import necessary libraries"
      ]
    },
    {
      "cell_type": "code",
      "execution_count": null,
      "metadata": {
        "id": "e2tw--FXNwSh"
      },
      "outputs": [],
      "source": [
        "import pandas as pd\n",
        "import numpy as np\n",
        "import matplotlib.pyplot as plt\n",
        "import tensorflow as tf\n",
        "from tensorflow.keras.preprocessing.image import ImageDataGenerator\n",
        "from tensorflow.keras.applications import VGG16\n",
        "from tensorflow.keras.models import Sequential\n",
        "from tensorflow.keras.layers import Dense, Flatten, Dropout\n",
        "from tensorflow.keras.optimizers import Adam\n",
        "from sklearn.model_selection import train_test_split\n",
        "from sklearn.metrics import classification_report, accuracy_score\n",
        "import seaborn as sns\n",
        "from sklearn.metrics import confusion_matrix\n"
      ]
    },
    {
      "cell_type": "code",
      "execution_count": null,
      "metadata": {
        "id": "JucBaSKQbsOD",
        "colab": {
          "base_uri": "https://localhost:8080/"
        },
        "outputId": "e2caedc3-c3bc-420d-bf61-5355bbec0570"
      },
      "outputs": [
        {
          "output_type": "execute_result",
          "data": {
            "text/plain": [
              "['.config', 'unzipped_folder', 'train.csv', 'test.csv', 'sample_data']"
            ]
          },
          "metadata": {},
          "execution_count": 24
        }
      ],
      "source": [
        "import os\n",
        "\n",
        "# Define the path for the new folder\n",
        "new_folder_path = '/content/unzipped_folder'\n",
        "\n",
        "# Create the folder\n",
        "os.makedirs(new_folder_path, exist_ok=True)\n",
        "\n",
        "# Verify that the folder has been created\n",
        "os.listdir('/content')\n"
      ]
    },
    {
      "cell_type": "code",
      "source": [],
      "metadata": {
        "id": "FDaqRcl_2nCl"
      },
      "execution_count": null,
      "outputs": []
    },
    {
      "cell_type": "code",
      "source": [],
      "metadata": {
        "id": "9vRNKiOl2ey6"
      },
      "execution_count": null,
      "outputs": []
    },
    {
      "cell_type": "markdown",
      "metadata": {
        "id": "VJ9pdUp-PCWq"
      },
      "source": [
        "# Load the data"
      ]
    },
    {
      "cell_type": "code",
      "execution_count": null,
      "metadata": {
        "id": "FR6wOBXlPCpJ"
      },
      "outputs": [],
      "source": [
        "train_df = pd.read_csv('/content/train.csv')\n",
        "test_df = pd.read_csv('/content/test.csv')"
      ]
    },
    {
      "cell_type": "markdown",
      "metadata": {
        "id": "Qqmo-zObPLk7"
      },
      "source": [
        "# Understand The data"
      ]
    },
    {
      "cell_type": "code",
      "execution_count": null,
      "metadata": {
        "colab": {
          "base_uri": "https://localhost:8080/"
        },
        "id": "Rj1zV86ZPL3p",
        "outputId": "f3fa7916-b8a2-4dce-f59e-a287a8b82846"
      },
      "outputs": [
        {
          "output_type": "stream",
          "name": "stdout",
          "text": [
            "                                      filename      category\n",
            "375    result_table_img_63264_0_1698260758.jpg      bordered\n",
            "295    result_table_img_34586_1_1684348769.jpg      bordered\n",
            "753   result_table_img_100075_0_1711390266.jpg    borderless\n",
            "1135   result_table_img_42349_0_1688686496.jpg  row_bordered\n",
            "1145   result_table_img_26726_0_1679518884.jpg  row_bordered\n"
          ]
        }
      ],
      "source": [
        "print(train_df.sample(5))"
      ]
    },
    {
      "cell_type": "code",
      "execution_count": null,
      "metadata": {
        "colab": {
          "base_uri": "https://localhost:8080/"
        },
        "id": "dmlO6JSQsMPO",
        "outputId": "12ef4259-2891-4bfd-b83a-5d44471d928f"
      },
      "outputs": [
        {
          "output_type": "execute_result",
          "data": {
            "text/plain": [
              "(1257, 2)"
            ]
          },
          "metadata": {},
          "execution_count": 40
        }
      ],
      "source": [
        "train_df.shape"
      ]
    },
    {
      "cell_type": "code",
      "execution_count": null,
      "metadata": {
        "colab": {
          "base_uri": "https://localhost:8080/"
        },
        "id": "WDHMfLOAPRV0",
        "outputId": "a0e3e1aa-2c67-411b-ab74-d654dbcd21c4"
      },
      "outputs": [
        {
          "output_type": "stream",
          "name": "stdout",
          "text": [
            "                                    filename    category\n",
            "20   result_table_img_90028_1_1708548617.jpg    bordered\n",
            "1    result_table_img_49176_0_1691792667.jpg    bordered\n",
            "23   result_table_img_93139_0_1709562502.jpg    bordered\n",
            "42   result_table_img_83636_0_1706648536.jpg    bordered\n",
            "143  result_table_img_23698_0_1677599861.jpg  borderless\n"
          ]
        }
      ],
      "source": [
        "print(test_df.sample(5))"
      ]
    },
    {
      "cell_type": "code",
      "source": [
        "test_df.shape"
      ],
      "metadata": {
        "colab": {
          "base_uri": "https://localhost:8080/"
        },
        "id": "AVh1BNQ0zwKx",
        "outputId": "289c47d9-1dcc-48c8-e051-946f5beb71d5"
      },
      "execution_count": null,
      "outputs": [
        {
          "output_type": "execute_result",
          "data": {
            "text/plain": [
              "(300, 2)"
            ]
          },
          "metadata": {},
          "execution_count": 42
        }
      ]
    },
    {
      "cell_type": "markdown",
      "source": [
        "#  Plot the distribution of categories in train and test data"
      ],
      "metadata": {
        "id": "oFcCW80Q0QHK"
      }
    },
    {
      "cell_type": "code",
      "source": [
        "plt.figure(figsize=(10, 4))\n",
        "\n",
        "plt.subplot(1, 2, 1)\n",
        "train_df['category'].value_counts().plot(kind='bar')\n",
        "plt.title('Distribution of Categories in Training Data')\n",
        "plt.xlabel('Category')\n",
        "plt.ylabel('Count')\n",
        "\n",
        "plt.subplot(1, 2, 2)\n",
        "test_df['category'].value_counts().plot(kind='bar')\n",
        "plt.title('Distribution of Categories in Test Data')\n",
        "plt.xlabel('Category')\n",
        "plt.ylabel('Count')\n",
        "\n",
        "plt.tight_layout()\n",
        "plt.show()"
      ],
      "metadata": {
        "colab": {
          "base_uri": "https://localhost:8080/",
          "height": 388
        },
        "id": "HtUdA-Q30Rwi",
        "outputId": "5cf016e1-0cea-4ed1-97b3-cc54e8703af1"
      },
      "execution_count": null,
      "outputs": [
        {
          "output_type": "display_data",
          "data": {
            "text/plain": [
              "<Figure size 1000x400 with 2 Axes>"
            ],
            "image/png": "[encoded data removed]"
          },
          "metadata": {}
        }
      ]
    },
    {
      "cell_type": "markdown",
      "source": [
        "The training data shows an imbalance with **row_bordered** having approximately half the number of samples compared to bordered and borderless. The test data, on the other hand, appears to be balanced across the three categories.\n",
        "\n",
        "**Implications of Imbalance**\n",
        "An imbalance in the training data can lead to the model being biased towards the categories with more samples (bordered and borderless in this case). This can result in lower accuracy for the row_bordered category."
      ],
      "metadata": {
        "id": "BszzkWaA0ngM"
      }
    },
    {
      "cell_type": "markdown",
      "metadata": {
        "id": "2pxtW2k9PMEr"
      },
      "source": [
        "# Preprocess the data"
      ]
    },
    {
      "cell_type": "markdown",
      "metadata": {
        "id": "Ny6h82L5PYFv"
      },
      "source": [
        "## Define image size and batch size"
      ]
    },
    {
      "cell_type": "code",
      "execution_count": null,
      "metadata": {
        "id": "lb0xbCxXPMO4"
      },
      "outputs": [],
      "source": [
        "IMAGE_SIZE = (224, 224)\n",
        "BATCH_SIZE = 32"
      ]
    },
    {
      "cell_type": "markdown",
      "metadata": {
        "id": "j3rJQ_tMPcgK"
      },
      "source": [
        "## ImageDataGenerator for training and validation"
      ]
    },
    {
      "cell_type": "code",
      "execution_count": null,
      "metadata": {
        "colab": {
          "base_uri": "https://localhost:8080/"
        },
        "id": "lOI0zOVOPhZP",
        "outputId": "f7a612a4-5985-47b0-fe5f-4b4214e68c06"
      },
      "outputs": [
        {
          "output_type": "stream",
          "name": "stdout",
          "text": [
            "Found 1006 validated image filenames belonging to 3 classes.\n",
            "Found 251 validated image filenames belonging to 3 classes.\n"
          ]
        }
      ],
      "source": [
        "datagen = ImageDataGenerator(rescale=1./255, validation_split=0.2)\n",
        "\n",
        "train_generator = datagen.flow_from_dataframe(\n",
        "    train_df,\n",
        "    directory='/content/unzipped_folder/train',\n",
        "    x_col='filename',\n",
        "    y_col='category',\n",
        "    target_size=IMAGE_SIZE,\n",
        "    batch_size=BATCH_SIZE,\n",
        "    class_mode='categorical',\n",
        "    subset='training'\n",
        ")\n",
        "\n",
        "validation_generator = datagen.flow_from_dataframe(\n",
        "    train_df,\n",
        "    directory='/content/unzipped_folder/train',\n",
        "    x_col='filename',\n",
        "    y_col='category',\n",
        "    target_size=IMAGE_SIZE,\n",
        "    batch_size=BATCH_SIZE,\n",
        "    class_mode='categorical',\n",
        "    subset='validation'\n",
        ")"
      ]
    },
    {
      "cell_type": "markdown",
      "metadata": {
        "id": "bTKbbag8PlWi"
      },
      "source": [
        "# Build the model using a pre-trained VGG16"
      ]
    },
    {
      "cell_type": "code",
      "execution_count": null,
      "metadata": {
        "id": "TgPk3bVJbdDV"
      },
      "outputs": [],
      "source": [
        "num_classes = len(train_generator.class_indices)"
      ]
    },
    {
      "cell_type": "code",
      "execution_count": null,
      "metadata": {
        "colab": {
          "base_uri": "https://localhost:8080/"
        },
        "id": "-zOrYYDmPlsV",
        "outputId": "5ecf0f51-71c9-4f47-a7f9-7f7bed7e066d"
      },
      "outputs": [
        {
          "output_type": "stream",
          "name": "stderr",
          "text": [
            "WARNING:absl:`lr` is deprecated in Keras optimizer, please use `learning_rate` or use the legacy optimizer, e.g.,tf.keras.optimizers.legacy.Adam.\n"
          ]
        }
      ],
      "source": [
        "base_model = VGG16(weights='imagenet', include_top=False, input_shape=(224, 224, 3))\n",
        "\n",
        "model = Sequential([\n",
        "    base_model,\n",
        "    Flatten(),\n",
        "    Dense(512, activation='relu'),\n",
        "    Dropout(0.5),\n",
        "    Dense(num_classes, activation='softmax')\n",
        "])\n",
        "\n",
        "model.compile(optimizer=Adam(lr=0.0001), loss='categorical_crossentropy', metrics=['accuracy'])\n"
      ]
    },
    {
      "cell_type": "markdown",
      "metadata": {
        "id": "i2prgD4BPthb"
      },
      "source": [
        "# Train the model"
      ]
    },
    {
      "cell_type": "code",
      "execution_count": null,
      "metadata": {
        "colab": {
          "base_uri": "https://localhost:8080/"
        },
        "id": "1Gw9HBCgP04V",
        "outputId": "8b50108d-3eac-4d24-98f5-8e8044587833"
      },
      "outputs": [
        {
          "output_type": "stream",
          "name": "stdout",
          "text": [
            "Epoch 1/5\n",
            "32/32 [==============================] - 64s 1s/step - loss: 2.8439 - accuracy: 0.3966 - val_loss: 1.8063 - val_accuracy: 0.0000e+00\n",
            "Epoch 2/5\n",
            "32/32 [==============================] - 27s 842ms/step - loss: 1.0175 - accuracy: 0.4950 - val_loss: 1.2085 - val_accuracy: 0.0598\n",
            "Epoch 3/5\n",
            "32/32 [==============================] - 24s 754ms/step - loss: 0.8390 - accuracy: 0.6223 - val_loss: 0.6918 - val_accuracy: 0.8247\n",
            "Epoch 4/5\n",
            "32/32 [==============================] - 25s 779ms/step - loss: 0.6129 - accuracy: 0.7008 - val_loss: 0.5848 - val_accuracy: 0.8725\n",
            "Epoch 5/5\n",
            "32/32 [==============================] - 25s 768ms/step - loss: 0.5094 - accuracy: 0.7336 - val_loss: 0.6797 - val_accuracy: 0.8008\n"
          ]
        }
      ],
      "source": [
        "history = model.fit(\n",
        "    train_generator,\n",
        "    epochs=5,\n",
        "    validation_data=validation_generator\n",
        ")"
      ]
    },
    {
      "cell_type": "markdown",
      "metadata": {
        "id": "LqjMDJZKP2Me"
      },
      "source": [
        "# Evaluate the model on test data"
      ]
    },
    {
      "cell_type": "code",
      "execution_count": null,
      "metadata": {
        "colab": {
          "base_uri": "https://localhost:8080/"
        },
        "id": "wnK01aMlP2ca",
        "outputId": "2102f096-1d03-49e4-b4fe-a8546e6ec1e0"
      },
      "outputs": [
        {
          "output_type": "stream",
          "name": "stdout",
          "text": [
            "Found 300 validated image filenames.\n",
            "300/300 [==============================] - 12s 35ms/step\n"
          ]
        }
      ],
      "source": [
        "test_datagen = ImageDataGenerator(rescale=1./255)\n",
        "\n",
        "test_generator = test_datagen.flow_from_dataframe(\n",
        "    test_df,\n",
        "    directory='/content/unzipped_folder/test',\n",
        "    x_col='filename',\n",
        "    y_col=None,\n",
        "    target_size=IMAGE_SIZE,\n",
        "    batch_size=1,\n",
        "    class_mode=None,\n",
        "    shuffle=False\n",
        ")\n",
        "\n",
        "predictions = model.predict(test_generator)\n",
        "predicted_classes = np.argmax(predictions, axis=1)\n"
      ]
    },
    {
      "cell_type": "markdown",
      "metadata": {
        "id": "Bp_NgYMkP-Aa"
      },
      "source": [
        "# Map predictions to class labels"
      ]
    },
    {
      "cell_type": "code",
      "execution_count": null,
      "metadata": {
        "id": "-iKzQrDZP-XV"
      },
      "outputs": [],
      "source": [
        "labels = (train_generator.class_indices)\n",
        "labels = dict((v,k) for k,v in labels.items())\n",
        "predicted_labels = [labels[k] for k in predicted_classes]"
      ]
    },
    {
      "cell_type": "markdown",
      "metadata": {
        "id": "qpuaW8ghQFok"
      },
      "source": [
        "# Save predictions to the CSV file"
      ]
    },
    {
      "cell_type": "code",
      "execution_count": null,
      "metadata": {
        "id": "wulQkNyCQF0B"
      },
      "outputs": [],
      "source": [
        "test_df['category'] = predicted_labels\n",
        "test_df.to_csv('predictions.csv', index=False)"
      ]
    },
    {
      "cell_type": "markdown",
      "metadata": {
        "id": "B29y1XN8QUUy"
      },
      "source": [
        "# Print classification report"
      ]
    },
    {
      "cell_type": "code",
      "execution_count": null,
      "metadata": {
        "colab": {
          "base_uri": "https://localhost:8080/"
        },
        "id": "mF07p1keQUgv",
        "outputId": "e1bd5687-2fb6-4d89-9f22-a2fc44932212"
      },
      "outputs": [
        {
          "output_type": "stream",
          "name": "stdout",
          "text": [
            "              precision    recall  f1-score   support\n",
            "\n",
            "    bordered       1.00      1.00      1.00       150\n",
            "  borderless       1.00      1.00      1.00       121\n",
            "row_bordered       1.00      1.00      1.00        29\n",
            "\n",
            "    accuracy                           1.00       300\n",
            "   macro avg       1.00      1.00      1.00       300\n",
            "weighted avg       1.00      1.00      1.00       300\n",
            "\n"
          ]
        }
      ],
      "source": [
        "print(classification_report(test_df['category'], predicted_labels))\n"
      ]
    },
    {
      "cell_type": "markdown",
      "metadata": {
        "id": "81lFW39VRR91"
      },
      "source": [
        "# Confusion matrix"
      ]
    },
    {
      "cell_type": "code",
      "execution_count": null,
      "metadata": {
        "id": "Css1qhkrRTLA"
      },
      "outputs": [],
      "source": [
        "cm = confusion_matrix(test_df['category'], predicted_labels)"
      ]
    },
    {
      "cell_type": "code",
      "execution_count": null,
      "metadata": {
        "colab": {
          "base_uri": "https://localhost:8080/",
          "height": 718
        },
        "id": "RmmB1PScnoha",
        "outputId": "11e10b7c-5675-49a0-fede-02c4bb9f87fc"
      },
      "outputs": [
        {
          "output_type": "display_data",
          "data": {
            "text/plain": [
              "<Figure size 1000x800 with 2 Axes>"
            ],
            "image/png": "[encoded data removed]"
          },
          "metadata": {}
        }
      ],
      "source": [
        "plt.figure(figsize=(10, 8))\n",
        "sns.heatmap(cm, annot=True, fmt='d', cmap='Blues', xticklabels=labels.values(), yticklabels=labels.values())\n",
        "plt.title('Confusion Matrix')\n",
        "plt.xlabel('Predicted Label')\n",
        "plt.ylabel('True Label')\n",
        "plt.show()"
      ]
    },
    {
      "cell_type": "markdown",
      "metadata": {
        "id": "jvEMlh_nRV2B"
      },
      "source": [
        "# Plot training history"
      ]
    },
    {
      "cell_type": "code",
      "execution_count": null,
      "metadata": {
        "colab": {
          "base_uri": "https://localhost:8080/",
          "height": 326
        },
        "id": "AzfpaA7JRZdc",
        "outputId": "e4fc2c85-0699-4fe7-cc79-2fab89413e2c"
      },
      "outputs": [
        {
          "output_type": "display_data",
          "data": {
            "text/plain": [
              "<Figure size 1200x400 with 2 Axes>"
            ],
            "image/png": "[encoded data removed]"
          },
          "metadata": {}
        }
      ],
      "source": [
        "plt.figure(figsize=(12, 4))\n",
        "plt.subplot(1, 2, 1)\n",
        "plt.plot(history.history['accuracy'], label='Train Accuracy')\n",
        "plt.plot(history.history['val_accuracy'], label='Validation Accuracy')\n",
        "plt.title('Model Accuracy')\n",
        "plt.xlabel('Epochs')\n",
        "plt.ylabel('Accuracy')\n",
        "plt.legend()\n",
        "\n",
        "plt.subplot(1, 2, 2)\n",
        "plt.plot(history.history['loss'], label='Train Loss')\n",
        "plt.plot(history.history['val_loss'], label='Validation Loss')\n",
        "plt.title('Model Loss')\n",
        "plt.xlabel('Epochs')\n",
        "plt.ylabel('Loss')\n",
        "plt.legend()\n",
        "\n",
        "plt.tight_layout()\n",
        "plt.show()"
      ]
    },
    {
      "cell_type": "markdown",
      "metadata": {
        "id": "WCC5qFPHonnl"
      },
      "source": [
        "**Interpretation:**\n",
        "\n",
        "\n",
        "**Accuracy Graph:**\n",
        "\n",
        "Initially, the training and validation accuracy are both low, indicating that the model is learning.\n",
        "As training progresses, both accuracies increase, indicating that the model is improving.\n",
        "Around epoch 2 to 3, the validation accuracy surpasses the training accuracy. This is somewhat unusual and could be due to the small size of the validation set or random fluctuations.\n",
        "By epoch 3 to 4, the validation accuracy starts to decrease while the training accuracy continues to increase, suggesting potential overfitting. Overfitting happens when the model performs well on the training data but not on the validation data.\n",
        "\n",
        "\n",
        "\n",
        "**Loss Graph:**\n",
        "\n",
        "The training and validation loss both decrease initially, indicating that the model is learning and improving.\n",
        "Around epoch 3, the training loss continues to decrease while the validation loss starts to increase slightly, which is another indication of overfitting.\n",
        "\n",
        "\n",
        "**Conclusion:**\n",
        "The model seems to perform best around epoch 3, after which overfitting may start to occur.\n",
        "Recommendation: You might want to consider using early stopping to halt training once the validation accuracy starts to decrease or the validation loss starts to increase. Additionally, you can experiment with different regularization techniques, such as dropout or weight decay, to prevent overfitting."
      ]
    },
    {
      "cell_type": "markdown",
      "metadata": {
        "id": "3gi7lM-kRd_N"
      },
      "source": [
        "# Calculate performance metrics"
      ]
    },
    {
      "cell_type": "code",
      "execution_count": null,
      "metadata": {
        "colab": {
          "base_uri": "https://localhost:8080/"
        },
        "id": "-5JqW8d6RQbv",
        "outputId": "a3a461f6-81e2-43b8-84c1-83c532f62199"
      },
      "outputs": [
        {
          "output_type": "stream",
          "name": "stdout",
          "text": [
            "Accuracy: 1.00\n",
            "Precision: 1.00\n",
            "Recall: 1.00\n",
            "F1 Score: 1.00\n"
          ]
        }
      ],
      "source": [
        "\n",
        "total_predictions = np.sum(cm)\n",
        "correct_predictions = np.trace(cm)\n",
        "accuracy = correct_predictions / total_predictions\n",
        "precision = np.diag(cm) / np.sum(cm, axis=0)\n",
        "recall = np.diag(cm) / np.sum(cm, axis=1)\n",
        "f1_score = 2 * (precision * recall) / (precision + recall)\n",
        "\n",
        "print(f'Accuracy: {accuracy:.2f}')\n",
        "print(f'Precision: {np.mean(precision):.2f}')\n",
        "print(f'Recall: {np.mean(recall):.2f}')\n",
        "print(f'F1 Score: {np.mean(f1_score):.2f}')"
      ]
    },
    {
      "cell_type": "markdown",
      "metadata": {
        "id": "Jq0tGsQjQc7N"
      },
      "source": [
        "# Inference pipeline function"
      ]
    },
    {
      "cell_type": "code",
      "execution_count": null,
      "metadata": {
        "id": "1zwKvy1QQdGb"
      },
      "outputs": [],
      "source": [
        "def predict_image(image_path, model):\n",
        "    img = tf.keras.preprocessing.image.load_img(image_path, target_size=IMAGE_SIZE)\n",
        "    img_array = tf.keras.preprocessing.image.img_to_array(img) / 255.0\n",
        "    img_array = np.expand_dims(img_array, axis=0)\n",
        "    predictions = model.predict(img_array)\n",
        "    predicted_class = np.argmax(predictions, axis=1)\n",
        "    predicted_label = labels[predicted_class[0]]\n",
        "    probabilities = predictions[0]\n",
        "    return predicted_label, probabilities"
      ]
    },
    {
      "cell_type": "markdown",
      "metadata": {
        "id": "bZyN2GNiQdRS"
      },
      "source": [
        "# usage of the inference function"
      ]
    },
    {
      "cell_type": "code",
      "execution_count": null,
      "metadata": {
        "id": "OCF3zy-LQdcB",
        "colab": {
          "base_uri": "https://localhost:8080/"
        },
        "outputId": "6fdedfdf-93a1-43f9-a3ab-9c16f900bc9f"
      },
      "outputs": [
        {
          "output_type": "stream",
          "name": "stdout",
          "text": [
            "1/1 [==============================] - 0s 33ms/step\n",
            "Predicted label: bordered\n",
            "Class probabilities: [0.7111199  0.01874461 0.27013546]\n"
          ]
        }
      ],
      "source": [
        "image_path = '/content/unzipped_folder/train/1321_E_UNION_BOM.png'\n",
        "label, probs = predict_image(image_path, model)\n",
        "print(f'Predicted label: {label}')\n",
        "print(f'Class probabilities: {probs}')"
      ]
    },
    {
      "cell_type": "code",
      "source": [],
      "metadata": {
        "id": "DurJXg_XE15v"
      },
      "execution_count": null,
      "outputs": []
    }
  ],
  "metadata": {
    "accelerator": "GPU",
    "colab": {
      "gpuType": "T4",
      "provenance": []
    },
    "kernelspec": {
      "display_name": "Python 3",
      "name": "python3"
    },
    "language_info": {
      "name": "python"
    }
  },
  "nbformat": 4,
  "nbformat_minor": 0
}