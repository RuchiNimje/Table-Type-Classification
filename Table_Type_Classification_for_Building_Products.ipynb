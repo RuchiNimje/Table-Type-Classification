{
  "nbformat": 4,
  "nbformat_minor": 0,
  "metadata": {
    "colab": {
      "provenance": []
    },
    "kernelspec": {
      "name": "python3",
      "display_name": "Python 3"
    },
    "language_info": {
      "name": "python"
    }
  },
  "cells": [
    {
      "cell_type": "markdown",
      "source": [
        "# Import necessary libraries"
      ],
      "metadata": {
        "id": "UrHf3F9GLZm6"
      }
    },
    {
      "cell_type": "code",
      "source": [
        "import pandas as pd\n",
        "import numpy as np\n",
        "import matplotlib.pyplot as plt\n",
        "import tensorflow as tf\n",
        "from tensorflow.keras.preprocessing.image import ImageDataGenerator\n",
        "from tensorflow.keras.applications import VGG16\n",
        "from tensorflow.keras.models import Sequential\n",
        "from tensorflow.keras.layers import Dense, Flatten, Dropout\n",
        "from tensorflow.keras.optimizers import Adam\n",
        "from sklearn.model_selection import train_test_split\n",
        "from sklearn.metrics import classification_report, accuracy_score\n",
        "import seaborn as sns\n",
        "from sklearn.metrics import confusion_matrix\n"
      ],
      "metadata": {
        "id": "e2tw--FXNwSh"
      },
      "execution_count": null,
      "outputs": []
    },
    {
      "cell_type": "markdown",
      "source": [
        "# Load the data"
      ],
      "metadata": {
        "id": "VJ9pdUp-PCWq"
      }
    },
    {
      "cell_type": "code",
      "source": [
        "train_df = pd.read_csv('/content/train.csv')\n",
        "test_df = pd.read_csv('/content/test.csv')"
      ],
      "metadata": {
        "id": "FR6wOBXlPCpJ"
      },
      "execution_count": null,
      "outputs": []
    },
    {
      "cell_type": "markdown",
      "source": [
        "# Understand The data"
      ],
      "metadata": {
        "id": "Qqmo-zObPLk7"
      }
    },
    {
      "cell_type": "code",
      "source": [
        "print(train_df.sample(5))"
      ],
      "metadata": {
        "colab": {
          "base_uri": "https://localhost:8080/"
        },
        "id": "Rj1zV86ZPL3p",
        "outputId": "6f90322f-6eae-4583-ebb4-8ea94a138d8b"
      },
      "execution_count": null,
      "outputs": [
        {
          "output_type": "stream",
          "name": "stdout",
          "text": [
            "                                      filename      category\n",
            "762    result_table_img_63345_0_1698336306.jpg    borderless\n",
            "93     result_table_img_84368_0_1706812523.jpg      bordered\n",
            "49      result_table_img_4310_0_1651001574.jpg      bordered\n",
            "165   result_table_img_100896_0_1711553224.jpg      bordered\n",
            "1187   result_table_img_16089_3_1671494101.jpg  row_bordered\n"
          ]
        }
      ]
    },
    {
      "cell_type": "code",
      "source": [
        "print(test_df.sample(5))"
      ],
      "metadata": {
        "colab": {
          "base_uri": "https://localhost:8080/"
        },
        "id": "WDHMfLOAPRV0",
        "outputId": "e3a5fb3f-d1e7-4d9a-d816-015d6125a2e5"
      },
      "execution_count": null,
      "outputs": [
        {
          "output_type": "stream",
          "name": "stdout",
          "text": [
            "                                     filename      category\n",
            "22              Ikea_-_Southlake_TX_-_Sta.png      bordered\n",
            "55    result_table_img_77085_2_1704734504.jpg      bordered\n",
            "112   result_table_img_71138_0_1701727928.jpg    borderless\n",
            "200   result_table_img_76033_0_1704227510.jpg  row_bordered\n",
            "74   result_table_img_106674_0_1712940255.jpg      bordered\n"
          ]
        }
      ]
    },
    {
      "cell_type": "markdown",
      "source": [
        "# Preprocess the data"
      ],
      "metadata": {
        "id": "2pxtW2k9PMEr"
      }
    },
    {
      "cell_type": "markdown",
      "source": [
        "## Define image size and batch size"
      ],
      "metadata": {
        "id": "Ny6h82L5PYFv"
      }
    },
    {
      "cell_type": "code",
      "source": [
        "IMAGE_SIZE = (224, 224)\n",
        "BATCH_SIZE = 32"
      ],
      "metadata": {
        "id": "lb0xbCxXPMO4"
      },
      "execution_count": null,
      "outputs": []
    },
    {
      "cell_type": "markdown",
      "source": [
        "## ImageDataGenerator for training and validation"
      ],
      "metadata": {
        "id": "j3rJQ_tMPcgK"
      }
    },
    {
      "cell_type": "code",
      "source": [
        "!unzip -q /content/train.zip -d /content/unzipped_folder\n"
      ],
      "metadata": {
        "id": "H1dVTlAdTdN8",
        "colab": {
          "base_uri": "https://localhost:8080/"
        },
        "outputId": "33ca9bee-b28a-4e52-bfcf-654e854719b0"
      },
      "execution_count": null,
      "outputs": [
        {
          "output_type": "stream",
          "name": "stdout",
          "text": [
            "[/content/train.zip]\n",
            "  End-of-central-directory signature not found.  Either this file is not\n",
            "  a zipfile, or it constitutes one disk of a multi-part archive.  In the\n",
            "  latter case the central directory and zipfile comment will be found on\n",
            "  the last disk(s) of this archive.\n",
            "unzip:  cannot find zipfile directory in one of /content/train.zip or\n",
            "        /content/train.zip.zip, and cannot find /content/train.zip.ZIP, period.\n"
          ]
        }
      ]
    },
    {
      "cell_type": "code",
      "source": [
        "datagen = ImageDataGenerator(rescale=1./255, validation_split=0.2)\n",
        "\n",
        "train_generator = datagen.flow_from_dataframe(\n",
        "    train_df,\n",
        "    directory='/content/unzipped_folder/train',\n",
        "    x_col='filename',\n",
        "    y_col='category',\n",
        "    target_size=IMAGE_SIZE,\n",
        "    batch_size=BATCH_SIZE,\n",
        "    class_mode='categorical',\n",
        "    subset='training'\n",
        ")\n",
        "\n",
        "validation_generator = datagen.flow_from_dataframe(\n",
        "    train_df,\n",
        "    directory='/content/unzipped_folder/train',\n",
        "    x_col='filename',\n",
        "    y_col='category',\n",
        "    target_size=IMAGE_SIZE,\n",
        "    batch_size=BATCH_SIZE,\n",
        "    class_mode='categorical',\n",
        "    subset='validation'\n",
        ")"
      ],
      "metadata": {
        "colab": {
          "base_uri": "https://localhost:8080/"
        },
        "id": "lOI0zOVOPhZP",
        "outputId": "956889c2-ef81-45b4-c698-27fed3d69642"
      },
      "execution_count": null,
      "outputs": [
        {
          "output_type": "stream",
          "name": "stdout",
          "text": [
            "Found 1006 validated image filenames belonging to 3 classes.\n",
            "Found 251 validated image filenames belonging to 3 classes.\n"
          ]
        }
      ]
    },
    {
      "cell_type": "markdown",
      "source": [
        "# Build the model using a pre-trained VGG16"
      ],
      "metadata": {
        "id": "bTKbbag8PlWi"
      }
    },
    {
      "cell_type": "code",
      "source": [
        "num_classes = len(train_generator.class_indices)"
      ],
      "metadata": {
        "id": "TgPk3bVJbdDV"
      },
      "execution_count": null,
      "outputs": []
    },
    {
      "cell_type": "code",
      "source": [
        "base_model = VGG16(weights='imagenet', include_top=False, input_shape=(224, 224, 3))\n",
        "\n",
        "model = Sequential([\n",
        "    base_model,\n",
        "    Flatten(),\n",
        "    Dense(512, activation='relu'),\n",
        "    Dropout(0.5),\n",
        "    Dense(num_classes, activation='softmax')\n",
        "])\n",
        "\n",
        "model.compile(optimizer=Adam(lr=0.0001), loss='categorical_crossentropy', metrics=['accuracy'])\n"
      ],
      "metadata": {
        "id": "-zOrYYDmPlsV",
        "colab": {
          "base_uri": "https://localhost:8080/"
        },
        "outputId": "b0fa26a0-23f7-47f2-ee7e-2a6c3bc07eb8"
      },
      "execution_count": null,
      "outputs": [
        {
          "output_type": "stream",
          "name": "stderr",
          "text": [
            "WARNING:absl:`lr` is deprecated in Keras optimizer, please use `learning_rate` or use the legacy optimizer, e.g.,tf.keras.optimizers.legacy.Adam.\n"
          ]
        }
      ]
    },
    {
      "cell_type": "markdown",
      "source": [
        "# Train the model"
      ],
      "metadata": {
        "id": "i2prgD4BPthb"
      }
    },
    {
      "cell_type": "code",
      "source": [
        "history = model.fit(\n",
        "    train_generator,\n",
        "    epochs=10,\n",
        "    validation_data=validation_generator\n",
        ")"
      ],
      "metadata": {
        "id": "1Gw9HBCgP04V",
        "colab": {
          "base_uri": "https://localhost:8080/"
        },
        "outputId": "92a20cba-2c67-472e-d9b9-f8e52dd62602"
      },
      "execution_count": null,
      "outputs": [
        {
          "output_type": "stream",
          "name": "stdout",
          "text": [
            "Epoch 1/10\n",
            "32/32 [==============================] - 2053s 64s/step - loss: 1.7048 - accuracy: 0.4175 - val_loss: 1.1575 - val_accuracy: 0.0000e+00\n",
            "Epoch 2/10\n",
            "32/32 [==============================] - 1983s 62s/step - loss: 1.1041 - accuracy: 0.4761 - val_loss: 1.2748 - val_accuracy: 0.0000e+00\n",
            "Epoch 3/10\n",
            "32/32 [==============================] - 1952s 61s/step - loss: 1.0604 - accuracy: 0.4930 - val_loss: 1.1740 - val_accuracy: 0.0000e+00\n",
            "Epoch 4/10\n",
            "32/32 [==============================] - 1949s 61s/step - loss: 1.0610 - accuracy: 0.4970 - val_loss: 1.2564 - val_accuracy: 0.0000e+00\n",
            "Epoch 5/10\n",
            "32/32 [==============================] - 1982s 62s/step - loss: 1.0466 - accuracy: 0.4970 - val_loss: 1.3244 - val_accuracy: 0.0000e+00\n",
            "Epoch 6/10\n",
            "32/32 [==============================] - 1943s 61s/step - loss: 1.0427 - accuracy: 0.4970 - val_loss: 1.3707 - val_accuracy: 0.0000e+00\n",
            "Epoch 7/10\n",
            "32/32 [==============================] - 1942s 61s/step - loss: 1.0425 - accuracy: 0.4970 - val_loss: 1.3912 - val_accuracy: 0.0000e+00\n",
            "Epoch 8/10\n",
            "32/32 [==============================] - 1951s 61s/step - loss: 1.0408 - accuracy: 0.4970 - val_loss: 1.3965 - val_accuracy: 0.0000e+00\n",
            "Epoch 9/10\n",
            "32/32 [==============================] - 1942s 61s/step - loss: 1.0411 - accuracy: 0.4970 - val_loss: 1.4039 - val_accuracy: 0.0000e+00\n",
            "Epoch 10/10\n",
            "32/32 [==============================] - 1935s 61s/step - loss: 1.0415 - accuracy: 0.4970 - val_loss: 1.3736 - val_accuracy: 0.0000e+00\n"
          ]
        }
      ]
    },
    {
      "cell_type": "markdown",
      "source": [
        "# Evaluate the model on test data"
      ],
      "metadata": {
        "id": "LqjMDJZKP2Me"
      }
    },
    {
      "cell_type": "code",
      "source": [
        "test_datagen = ImageDataGenerator(rescale=1./255)\n",
        "\n",
        "test_generator = test_datagen.flow_from_dataframe(\n",
        "    test_df,\n",
        "    directory='/content/unzipped_folder/test',\n",
        "    x_col='filename',\n",
        "    y_col=None,\n",
        "    target_size=IMAGE_SIZE,\n",
        "    batch_size=1,\n",
        "    class_mode=None,\n",
        "    shuffle=False\n",
        ")\n",
        "\n",
        "predictions = model.predict(test_generator)\n",
        "predicted_classes = np.argmax(predictions, axis=1)\n"
      ],
      "metadata": {
        "id": "wnK01aMlP2ca",
        "colab": {
          "base_uri": "https://localhost:8080/"
        },
        "outputId": "5c2630bf-69b8-484d-cff7-c4ef0869548a"
      },
      "execution_count": null,
      "outputs": [
        {
          "output_type": "stream",
          "name": "stdout",
          "text": [
            "Found 300 validated image filenames.\n",
            "300/300 [==============================] - 189s 627ms/step\n"
          ]
        }
      ]
    },
    {
      "cell_type": "markdown",
      "source": [
        "# Map predictions to class labels"
      ],
      "metadata": {
        "id": "Bp_NgYMkP-Aa"
      }
    },
    {
      "cell_type": "code",
      "source": [
        "labels = (train_generator.class_indices)\n",
        "labels = dict((v,k) for k,v in labels.items())\n",
        "predicted_labels = [labels[k] for k in predicted_classes]"
      ],
      "metadata": {
        "id": "-iKzQrDZP-XV"
      },
      "execution_count": null,
      "outputs": []
    },
    {
      "cell_type": "markdown",
      "source": [
        "# Save predictions to the CSV file"
      ],
      "metadata": {
        "id": "qpuaW8ghQFok"
      }
    },
    {
      "cell_type": "code",
      "source": [
        "test_df['category'] = predicted_labels\n",
        "test_df.to_csv('predictions.csv', index=False)"
      ],
      "metadata": {
        "id": "wulQkNyCQF0B"
      },
      "execution_count": null,
      "outputs": []
    },
    {
      "cell_type": "markdown",
      "source": [
        "# Print classification report"
      ],
      "metadata": {
        "id": "B29y1XN8QUUy"
      }
    },
    {
      "cell_type": "code",
      "source": [
        "print(classification_report(test_df['category'], predicted_labels))\n"
      ],
      "metadata": {
        "id": "mF07p1keQUgv",
        "colab": {
          "base_uri": "https://localhost:8080/"
        },
        "outputId": "2b7c2596-8835-43a1-cb9b-767859344d6e"
      },
      "execution_count": null,
      "outputs": [
        {
          "output_type": "stream",
          "name": "stdout",
          "text": [
            "              precision    recall  f1-score   support\n",
            "\n",
            "  borderless       1.00      1.00      1.00       300\n",
            "\n",
            "    accuracy                           1.00       300\n",
            "   macro avg       1.00      1.00      1.00       300\n",
            "weighted avg       1.00      1.00      1.00       300\n",
            "\n"
          ]
        }
      ]
    },
    {
      "cell_type": "markdown",
      "source": [
        "# Confusion matrix"
      ],
      "metadata": {
        "id": "81lFW39VRR91"
      }
    },
    {
      "cell_type": "code",
      "source": [
        "cm = confusion_matrix(test_df['category'], predicted_labels)"
      ],
      "metadata": {
        "id": "Css1qhkrRTLA"
      },
      "execution_count": null,
      "outputs": []
    },
    {
      "cell_type": "code",
      "source": [
        "plt.figure(figsize=(10, 8))\n",
        "sns.heatmap(cm, annot=True, fmt='d', cmap='Blues', xticklabels=labels.values(), yticklabels=labels.values())\n",
        "plt.title('Confusion Matrix')\n",
        "plt.xlabel('Predicted Label')\n",
        "plt.ylabel('True Label')\n",
        "plt.show()"
      ],
      "metadata": {
        "colab": {
          "base_uri": "https://localhost:8080/",
          "height": 723
        },
        "id": "RmmB1PScnoha",
        "outputId": "defbcb43-abeb-4a3b-f555-102e26f56381"
      },
      "execution_count": null,
      "outputs": [
        {
          "output_type": "display_data",
          "data": {
            "text/plain": [
              "<Figure size 1000x800 with 2 Axes>"
            ],
            "image/png": "[encoded data removed]"
          },
          "metadata": {}
        }
      ]
    },
    {
      "cell_type": "markdown",
      "source": [
        "# Plot training history"
      ],
      "metadata": {
        "id": "jvEMlh_nRV2B"
      }
    },
    {
      "cell_type": "code",
      "source": [
        "plt.figure(figsize=(12, 4))\n",
        "plt.subplot(1, 2, 1)\n",
        "plt.plot(history.history['accuracy'], label='Train Accuracy')\n",
        "plt.plot(history.history['val_accuracy'], label='Validation Accuracy')\n",
        "plt.title('Model Accuracy')\n",
        "plt.xlabel('Epochs')\n",
        "plt.ylabel('Accuracy')\n",
        "plt.legend()\n",
        "\n",
        "plt.subplot(1, 2, 2)\n",
        "plt.plot(history.history['loss'], label='Train Loss')\n",
        "plt.plot(history.history['val_loss'], label='Validation Loss')\n",
        "plt.title('Model Loss')\n",
        "plt.xlabel('Epochs')\n",
        "plt.ylabel('Loss')\n",
        "plt.legend()\n",
        "\n",
        "plt.tight_layout()\n",
        "plt.show()"
      ],
      "metadata": {
        "id": "AzfpaA7JRZdc",
        "colab": {
          "base_uri": "https://localhost:8080/",
          "height": 326
        },
        "outputId": "749f0ed7-ab3d-455a-b0ad-1a1f1cff8f5b"
      },
      "execution_count": null,
      "outputs": [
        {
          "output_type": "display_data",
          "data": {
            "text/plain": [
              "<Figure size 1200x400 with 2 Axes>"
            ],
            "image/png": "[encoded data removed]"
          },
          "metadata": {}
        }
      ]
    },
    {
      "cell_type": "markdown",
      "source": [
        "**Model Accuracy:**\n",
        "\n",
        "**Training Accuracy:** The training accuracy improves over epochs, starting around 0.4 and reaching just above 0.5 by the end of the training.\n",
        "**Validation Accuracy:** The validation accuracy remains at 0 throughout all epochs.\n",
        "**Conclusion**: The model is learning on the training data, as indicated by the increase in training accuracy. However, it is not generalizing well to the validation data, which suggests overfitting. The model might be memorizing the training data without learning to generalize.\n",
        "\n",
        "\n",
        "\n",
        "**Model Loss:**\n",
        "\n",
        "**Training Loss:** The training loss decreases significantly in the first epoch and then stabilizes around a lower value.\n",
        "**Validation Loss:** The validation loss starts relatively high, fluctuates initially, and then increases steadily over the epochs.\n",
        "**Conclusion**: The decreasing training loss indicates that the model is becoming better at minimizing the error on the training data. However, the increasing validation loss signifies that the model's performance on unseen data is deteriorating over time, reinforcing the observation of overfitting."
      ],
      "metadata": {
        "id": "WCC5qFPHonnl"
      }
    },
    {
      "cell_type": "markdown",
      "source": [
        "# Calculate performance metrics"
      ],
      "metadata": {
        "id": "3gi7lM-kRd_N"
      }
    },
    {
      "cell_type": "code",
      "source": [
        "\n",
        "total_predictions = np.sum(cm)\n",
        "correct_predictions = np.trace(cm)\n",
        "accuracy = correct_predictions / total_predictions\n",
        "precision = np.diag(cm) / np.sum(cm, axis=0)\n",
        "recall = np.diag(cm) / np.sum(cm, axis=1)\n",
        "f1_score = 2 * (precision * recall) / (precision + recall)\n",
        "\n",
        "print(f'Accuracy: {accuracy:.2f}')\n",
        "print(f'Precision: {np.mean(precision):.2f}')\n",
        "print(f'Recall: {np.mean(recall):.2f}')\n",
        "print(f'F1 Score: {np.mean(f1_score):.2f}')"
      ],
      "metadata": {
        "id": "-5JqW8d6RQbv"
      },
      "execution_count": null,
      "outputs": []
    },
    {
      "cell_type": "markdown",
      "source": [
        "# Inference pipeline function"
      ],
      "metadata": {
        "id": "Jq0tGsQjQc7N"
      }
    },
    {
      "cell_type": "code",
      "source": [
        "def predict_image(image_path, model):\n",
        "    img = tf.keras.preprocessing.image.load_img(image_path, target_size=IMAGE_SIZE)\n",
        "    img_array = tf.keras.preprocessing.image.img_to_array(img) / 255.0\n",
        "    img_array = np.expand_dims(img_array, axis=0)\n",
        "    predictions = model.predict(img_array)\n",
        "    predicted_class = np.argmax(predictions, axis=1)\n",
        "    predicted_label = labels[predicted_class[0]]\n",
        "    probabilities = predictions[0]\n",
        "    return predicted_label, probabilities"
      ],
      "metadata": {
        "id": "1zwKvy1QQdGb"
      },
      "execution_count": null,
      "outputs": []
    },
    {
      "cell_type": "markdown",
      "source": [
        "# usage of the inference function"
      ],
      "metadata": {
        "id": "bZyN2GNiQdRS"
      }
    },
    {
      "cell_type": "code",
      "source": [
        "image_path = '/content/test/your_test_image.png'\n",
        "label, probs = predict_image(image_path, model)\n",
        "print(f'Predicted label: {label}')\n",
        "print(f'Class probabilities: {probs}')"
      ],
      "metadata": {
        "id": "OCF3zy-LQdcB"
      },
      "execution_count": null,
      "outputs": []
    }
  ]
}